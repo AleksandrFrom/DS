{
 "cells": [
  {
   "cell_type": "markdown",
   "metadata": {},
   "source": [
    "# 9. Использование CPU и GPU на примере простой НС"
   ]
  },
  {
   "cell_type": "code",
   "execution_count": 1,
   "metadata": {},
   "outputs": [],
   "source": [
    "import torch\n",
    "import numpy as np"
   ]
  },
  {
   "cell_type": "code",
   "execution_count": 16,
   "metadata": {},
   "outputs": [],
   "source": [
    "def act(x):\n",
    "    return 0 if x < 0.5 else 1"
   ]
  },
  {
   "cell_type": "code",
   "execution_count": 25,
   "metadata": {},
   "outputs": [],
   "source": [
    "def go(house, rock, attr):\n",
    "    X = torch.tensor([house, rock, attr], dtype=torch.float32)\n",
    "    Wh = torch.tensor([[0.3, 0.3, 0], [0.4, -0.5, 1]]) #матрица 2х3\n",
    "    Whout = torch.tensor([-1.0, 1.0]) #вектор 1х2\n",
    "    \n",
    "    Zh = torch.mv(Wh, X) # вычисление суммы на входах нейронов скрытого слоя\n",
    "    print(f'Значения сумм на нейронах скрытого слоя: {Zh}')\n",
    "    \n",
    "    Uh = torch.tensor([act(x) for x in Zh], dtype=torch.float32)\n",
    "    print(f'Значения на выходных нейонах скрытого слоя: {Uh}')\n",
    "    \n",
    "    Zout = torch.dot(Whout, Uh)\n",
    "    Y = act(Zout)\n",
    "    print(f'Выходное значение НС: {Y}')\n",
    "    return Y"
   ]
  },
  {
   "cell_type": "code",
   "execution_count": 28,
   "metadata": {},
   "outputs": [
    {
     "name": "stdout",
     "output_type": "stream",
     "text": [
      "Значения сумм на нейронах скрытого слоя: tensor([0.3000, 1.4000])\n",
      "Значения на выходных нейонах скрытого слоя: tensor([0., 1.])\n",
      "Выходное значение НС: 1\n"
     ]
    }
   ],
   "source": [
    "house = 1\n",
    "rock = 0\n",
    "attr = 1\n",
    "\n",
    "res = go(house, rock, attr)"
   ]
  },
  {
   "cell_type": "code",
   "execution_count": 29,
   "metadata": {},
   "outputs": [
    {
     "name": "stdout",
     "output_type": "stream",
     "text": [
      "Нравится\n"
     ]
    }
   ],
   "source": [
    "if res == 1:\n",
    "    print(\"Нравится\")\n",
    "else:\n",
    "    print('Не нравится')"
   ]
  },
  {
   "cell_type": "code",
   "execution_count": 30,
   "metadata": {},
   "outputs": [
    {
     "data": {
      "text/plain": [
       "False"
      ]
     },
     "execution_count": 30,
     "metadata": {},
     "output_type": "execute_result"
    }
   ],
   "source": [
    "torch.cuda.is_available()"
   ]
  },
  {
   "cell_type": "code",
   "execution_count": 31,
   "metadata": {},
   "outputs": [],
   "source": [
    "device = torch.device('cuda' if torch.cuda.is_available() else 'cpu') #для выбора GPU/CPU обсчета кода"
   ]
  },
  {
   "cell_type": "code",
   "execution_count": 32,
   "metadata": {},
   "outputs": [
    {
     "data": {
      "text/plain": [
       "-1"
      ]
     },
     "execution_count": 32,
     "metadata": {},
     "output_type": "execute_result"
    }
   ],
   "source": [
    "w_out = torch.FloatTensor([-1, 1, -0.5])\n",
    "w_out.get_device()"
   ]
  },
  {
   "cell_type": "code",
   "execution_count": 34,
   "metadata": {},
   "outputs": [
    {
     "data": {
      "text/plain": [
       "-1"
      ]
     },
     "execution_count": 34,
     "metadata": {},
     "output_type": "execute_result"
    }
   ],
   "source": [
    "w_out = torch.tensor([-1, 1, -0.5], device=device) #выбор использования GPU/CPU\n",
    "w_out.get_device()"
   ]
  },
  {
   "cell_type": "code",
   "execution_count": 35,
   "metadata": {},
   "outputs": [
    {
     "data": {
      "text/plain": [
       "tensor([-1.0000,  1.0000, -0.5000])"
      ]
     },
     "execution_count": 35,
     "metadata": {},
     "output_type": "execute_result"
    }
   ],
   "source": [
    "#перенос тензора между CPU/GPU\n",
    "\n",
    "w_out = torch.FloatTensor([-1, 1, -0.5])\n",
    "w_out = w_out.to(device)\n",
    "w_out"
   ]
  },
  {
   "cell_type": "code",
   "execution_count": null,
   "metadata": {},
   "outputs": [],
   "source": [
    "# w_out = w_out.cuda() # при использовании GPU. копирование на GPU"
   ]
  },
  {
   "cell_type": "code",
   "execution_count": 38,
   "metadata": {},
   "outputs": [
    {
     "data": {
      "text/plain": [
       "tensor([-1.0000,  1.0000, -0.5000])"
      ]
     },
     "execution_count": 38,
     "metadata": {},
     "output_type": "execute_result"
    }
   ],
   "source": [
    "# копирование на CPU\n",
    "\n",
    "w_out = w_out.cpu()\n",
    "w_out"
   ]
  },
  {
   "cell_type": "code",
   "execution_count": 39,
   "metadata": {},
   "outputs": [],
   "source": [
    "torch.cuda.manual_seed(123) #задатчик случайных числе на GPU\n",
    "\n",
    "torch.cuda.manual_seed_all(123) #для всех GPU на ПК"
   ]
  },
  {
   "cell_type": "code",
   "execution_count": 44,
   "metadata": {},
   "outputs": [
    {
     "name": "stdout",
     "output_type": "stream",
     "text": [
      "Значения сумм на нейронах скрытого слоя: tensor([0.6000, 0.9000])\n",
      "Значения на выходных нейонах скрытого слоя: tensor([1., 1.])\n",
      "Выходное значение НС: 0\n",
      "Не нравится\n"
     ]
    }
   ],
   "source": [
    "#с учетом  GPU \n",
    "\n",
    "device = torch.device('cuda' if torch.cuda.is_available() else 'cpu')\n",
    "\n",
    "def act(x):\n",
    "    return 0 if x < 0.5 else 1\n",
    "\n",
    "def go(house, rock, attr):\n",
    "    X = torch.tensor([house, rock, attr], dtype=torch.float32, device=device)\n",
    "    Wh = torch.tensor([[0.3, 0.3, 0], [0.4, -0.5, 1]], device=device) #матрица 2х3\n",
    "    Whout = torch.tensor([-1.0, 1.0], device=device) #вектор 1х2\n",
    "    \n",
    "    Zh = torch.mv(Wh, X) # вычисление суммы на входах нейронов скрытого слоя\n",
    "    print(f'Значения сумм на нейронах скрытого слоя: {Zh}')\n",
    "    \n",
    "    Uh = torch.tensor([act(x) for x in Zh], dtype=torch.float32, device=device)\n",
    "    print(f'Значения на выходных нейонах скрытого слоя: {Uh}')\n",
    "    \n",
    "    Zout = torch.dot(Whout, Uh)\n",
    "    Y = act(Zout)\n",
    "    print(f'Выходное значение НС: {Y}')\n",
    "    \n",
    "    return Y\n",
    "\n",
    "\n",
    "house = 1\n",
    "rock = 1\n",
    "attr = 1\n",
    "\n",
    "res = go(house, rock, attr)\n",
    "\n",
    "if res == 1:\n",
    "    print(\"Нравится\")\n",
    "else:\n",
    "    print('Не нравится')"
   ]
  }
 ],
 "metadata": {
  "kernelspec": {
   "display_name": "pytorch",
   "language": "python",
   "name": "python3"
  },
  "language_info": {
   "codemirror_mode": {
    "name": "ipython",
    "version": 3
   },
   "file_extension": ".py",
   "mimetype": "text/x-python",
   "name": "python",
   "nbconvert_exporter": "python",
   "pygments_lexer": "ipython3",
   "version": "3.11.9"
  }
 },
 "nbformat": 4,
 "nbformat_minor": 2
}
