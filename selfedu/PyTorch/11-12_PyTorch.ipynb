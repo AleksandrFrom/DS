{
 "cells": [
  {
   "cell_type": "markdown",
   "metadata": {},
   "source": [
    "# 11. Идея обучения НС градиентным алгоритмом"
   ]
  },
  {
   "cell_type": "markdown",
   "metadata": {},
   "source": [
    "# 12. Алгоритм back propagation. Пример работы"
   ]
  },
  {
   "cell_type": "code",
   "execution_count": 2,
   "metadata": {},
   "outputs": [],
   "source": [
    "import torch\n",
    "import numpy as np\n",
    "from random import randint\n",
    "import matplotlib.pyplot as plt"
   ]
  },
  {
   "cell_type": "code",
   "execution_count": 3,
   "metadata": {},
   "outputs": [],
   "source": [
    "def act(z):\n",
    "    return torch.tanh(z)"
   ]
  },
  {
   "cell_type": "code",
   "execution_count": 6,
   "metadata": {},
   "outputs": [],
   "source": [
    "def df(z):\n",
    "    s = act(z)\n",
    "    return 1 - s * s"
   ]
  },
  {
   "cell_type": "code",
   "execution_count": 16,
   "metadata": {},
   "outputs": [],
   "source": [
    "def go_forward(x_inp, w1, w2):\n",
    "    z1 = torch.mv(w1[:, :3], x_inp) + w1[:, 3]\n",
    "    s = act(z1)\n",
    "\n",
    "    z2 = torch.dot(w2[:2], s) + w2[2]\n",
    "    y = act(z2)\n",
    "    return y, z1, z2"
   ]
  },
  {
   "cell_type": "code",
   "execution_count": 17,
   "metadata": {},
   "outputs": [],
   "source": [
    "torch.manual_seed(1)\n",
    "\n",
    "W1 = torch.rand(8).view(2, 4) - 0.5\n",
    "W2 = torch.rand(3) - 0.5\n",
    "\n",
    "# обучающая выборка (она же полная выборка)\n",
    "x_train = torch.FloatTensor([(-1, -1, -1), (-1, -1, 1), (-1, 1, -1), (-1, 1, 1),\n",
    "                            (1, -1, -1), (1, -1, 1), (1, 1, -1), (1, 1, 1)])\n",
    "y_train = torch.FloatTensor([-1, 1, -1, 1, -1, 1, -1, -1])"
   ]
  },
  {
   "cell_type": "code",
   "execution_count": 20,
   "metadata": {},
   "outputs": [],
   "source": [
    "lmd = 0.05              # шаг обучения\n",
    "N = 5000                # число итераций обучения\n",
    "total = len(y_train)    # размер обучающей выборки"
   ]
  },
  {
   "cell_type": "code",
   "execution_count": 21,
   "metadata": {},
   "outputs": [],
   "source": [
    "for _ in range(N):\n",
    "    k = randint(0, total-1)\n",
    "    x = x_train[k] # случайный выбор образа из обучающей выборки\n",
    "    y, z1, out = go_forward(x, W1, W2) # прямой проход по НС и вычисление выходных значений нейронов\n",
    "    e = y - y_train[k]  # производная квадратиечской функции потерь\n",
    "    delta = e * df(out) #вычисление локального градиента\n",
    "    delta2 = W2[:2] * delta * df(z1) #вектор из 2-х локальных градиентов скрытого слоя\n",
    "    \n",
    "    W2[:2] = W2[:2] - lmd * delta * z1 #корректировка весов связей последнего слоя\n",
    "    W2[2] = W2[2] - lmd * delta #корректировка bias\n",
    "    \n",
    "    #корректировка связей первого слоя\n",
    "    W1[0, :3] = W1[0, :3] - lmd * delta2[0] * x\n",
    "    W1[1, :3] = W1[1, :3] - lmd * delta2[1] * x"
   ]
  },
  {
   "cell_type": "code",
   "execution_count": 22,
   "metadata": {},
   "outputs": [
    {
     "name": "stdout",
     "output_type": "stream",
     "text": [
      "Выходное значение НС: -0.9564250707626343 => -1.0\n",
      "Выходное значение НС: 0.9945653676986694 => 1.0\n",
      "Выходное значение НС: -0.9997304677963257 => -1.0\n",
      "Выходное значение НС: 0.9694713354110718 => 1.0\n",
      "Выходное значение НС: -0.9997363090515137 => -1.0\n",
      "Выходное значение НС: 0.969562828540802 => 1.0\n",
      "Выходное значение НС: -0.999871551990509 => -1.0\n",
      "Выходное значение НС: -0.9483084082603455 => -1.0\n",
      "tensor([[ 0.4705,  0.4024, -0.9522,  0.2347],\n",
      "        [ 0.6854,  0.7586, -1.4179,  0.2544]])\n",
      "tensor([-1.4237, -2.5644, -0.8941])\n"
     ]
    }
   ],
   "source": [
    "# тестирование обученной НС\n",
    "for x, d in zip(x_train, y_train):\n",
    "    y, z1, out = go_forward(x, W1, W2)\n",
    "    print(f\"Выходное значение НС: {y} => {d}\")\n",
    "\n",
    "# результирующие весовые коэффициенты\n",
    "print(W1)\n",
    "print(W2)"
   ]
  }
 ],
 "metadata": {
  "kernelspec": {
   "display_name": "pytorch",
   "language": "python",
   "name": "python3"
  },
  "language_info": {
   "codemirror_mode": {
    "name": "ipython",
    "version": 3
   },
   "file_extension": ".py",
   "mimetype": "text/x-python",
   "name": "python",
   "nbconvert_exporter": "python",
   "pygments_lexer": "ipython3",
   "version": "3.11.9"
  }
 },
 "nbformat": 4,
 "nbformat_minor": 2
}
