{
 "cells": [
  {
   "cell_type": "markdown",
   "metadata": {},
   "source": [
    "# 13. Функции активации и потерь в PyTorch"
   ]
  },
  {
   "cell_type": "code",
   "execution_count": 1,
   "metadata": {},
   "outputs": [],
   "source": [
    "import torch\n",
    "import numpy as np\n",
    "from random import randint\n",
    "import matplotlib.pyplot as plt"
   ]
  },
  {
   "cell_type": "code",
   "execution_count": 2,
   "metadata": {},
   "outputs": [],
   "source": [
    "#импорт функций активации\n",
    "\n",
    "import torch.nn.functional as F \n",
    "\n",
    "F.linear() # только для выходных слоев в регрессиях\n",
    "\n",
    "F.sigmoid() # для бинарной классификации\n",
    "\n",
    "F.softmax() # для бинарной классификации\n",
    "\n",
    "\n",
    "#импорт функций потерь\n",
    "\n",
    "torch.nn.MSELoss"
   ]
  },
  {
   "cell_type": "markdown",
   "metadata": {},
   "source": [
    "# 14. Автоматическое дифференцирование"
   ]
  },
  {
   "cell_type": "code",
   "execution_count": 3,
   "metadata": {},
   "outputs": [
    {
     "name": "stdout",
     "output_type": "stream",
     "text": [
      "tensor([-12.], grad_fn=<AddBackward0>)\n",
      "tensor([2.]) tensor([-12.])\n",
      "tensor([-4.]) tensor([0.])\n"
     ]
    }
   ],
   "source": [
    "#создание тензоров\n",
    "\n",
    "x = torch.tensor([2.0], requires_grad=True)\n",
    "y = torch.tensor([-4.0], requires_grad=True)\n",
    "\n",
    "#f = (x + y) ** 2 + 2 * x * y\n",
    "\n",
    "a = (x + y) ** 2\n",
    "b = 2 * x * y\n",
    "f = a + b\n",
    "\n",
    "f.backward()\n",
    "\n",
    "print(f)\n",
    "print(x.data, x.grad)\n",
    "print(y.data, y.grad)"
   ]
  }
 ],
 "metadata": {
  "kernelspec": {
   "display_name": "pytorch",
   "language": "python",
   "name": "python3"
  },
  "language_info": {
   "codemirror_mode": {
    "name": "ipython",
    "version": 3
   },
   "file_extension": ".py",
   "mimetype": "text/x-python",
   "name": "python",
   "nbconvert_exporter": "python",
   "pygments_lexer": "ipython3",
   "version": "3.11.9"
  }
 },
 "nbformat": 4,
 "nbformat_minor": 2
}
