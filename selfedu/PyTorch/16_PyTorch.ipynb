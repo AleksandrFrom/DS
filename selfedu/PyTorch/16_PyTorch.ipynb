{
 "cells": [
  {
   "cell_type": "markdown",
   "metadata": {},
   "source": [
    "# 16. Классы nn.Linear и nn.Module"
   ]
  },
  {
   "cell_type": "code",
   "execution_count": 1,
   "metadata": {},
   "outputs": [],
   "source": [
    "import torch\n",
    "import numpy as np\n",
    "from random import randint\n",
    "import matplotlib.pyplot as plt\n",
    "\n",
    "import torch.nn as nn\n",
    "import torch.nn.functional as F\n",
    "import torch.optim as optim"
   ]
  },
  {
   "cell_type": "markdown",
   "metadata": {},
   "source": [
    "#### создание НС через класс"
   ]
  },
  {
   "cell_type": "code",
   "execution_count": 2,
   "metadata": {},
   "outputs": [],
   "source": [
    "class NetGirl(nn.Module):\n",
    "    def __init__(self, input_dim, num_hidden, output_dim):\n",
    "        super().__init__()\n",
    "        self.layer1 = nn.Linear(input_dim, num_hidden)\n",
    "        self.layer2 = nn.Linear(num_hidden, output_dim)\n",
    "        \n",
    "        \n",
    "    def forward(self, x):\n",
    "        x = self.layer1(x)\n",
    "        x = F.tanh(x)\n",
    "        x = self.layer2(x)\n",
    "        x = F.tanh(x)\n",
    "        return x"
   ]
  },
  {
   "cell_type": "code",
   "execution_count": 3,
   "metadata": {},
   "outputs": [
    {
     "name": "stdout",
     "output_type": "stream",
     "text": [
      "NetGirl(\n",
      "  (layer1): Linear(in_features=3, out_features=2, bias=True)\n",
      "  (layer2): Linear(in_features=2, out_features=1, bias=True)\n",
      ")\n"
     ]
    }
   ],
   "source": [
    "model = NetGirl(3, 2, 1)\n",
    "\n",
    "print(model)"
   ]
  },
  {
   "cell_type": "code",
   "execution_count": 4,
   "metadata": {},
   "outputs": [
    {
     "name": "stdout",
     "output_type": "stream",
     "text": [
      "[Parameter containing:\n",
      "tensor([[-0.2633, -0.1873, -0.5740],\n",
      "        [ 0.1524,  0.2833,  0.3643]], requires_grad=True), Parameter containing:\n",
      "tensor([0.0059, 0.3886], requires_grad=True), Parameter containing:\n",
      "tensor([[ 0.3591, -0.5002]], requires_grad=True), Parameter containing:\n",
      "tensor([0.6868], requires_grad=True)]\n"
     ]
    }
   ],
   "source": [
    "gen_p = model.parameters() #генератор параметров \n",
    "print(list(gen_p))"
   ]
  },
  {
   "cell_type": "code",
   "execution_count": null,
   "metadata": {},
   "outputs": [
    {
     "data": {
      "text/plain": [
       "NetGirl(\n",
       "  (layer1): Linear(in_features=3, out_features=2, bias=True)\n",
       "  (layer2): Linear(in_features=2, out_features=1, bias=True)\n",
       ")"
      ]
     },
     "execution_count": 5,
     "metadata": {},
     "output_type": "execute_result"
    }
   ],
   "source": [
    "x_train = torch.FloatTensor([(-1, -1, -1), (-1, -1, 1), (-1, 1, -1), (-1, 1, 1),\n",
    "                             (1, -1, -1), (1, -1, 1), (1, 1, -1), (1, 1, 1)])\n",
    "\n",
    "y_train = torch.FloatTensor([-1, 1, -1, 1, -1, 1, -1, -1])\n",
    "\n",
    "total = len(y_train)\n",
    "\n",
    "#оптимизатор \n",
    "optimizer = optim.RMSprop(params=model.parameters(), lr=0.01)\n",
    "loss_func = torch.nn.MSELoss()\n",
    "\n",
    "\n",
    "#обучение модели\n",
    "model.train()"
   ]
  },
  {
   "cell_type": "code",
   "execution_count": 6,
   "metadata": {},
   "outputs": [],
   "source": [
    "#стохастический градиентный спуск\n",
    "for _ in range(1000):\n",
    "    k = randint(0, total - 1)\n",
    "    y = model(x_train[k])\n",
    "    y = y.squeeze()\n",
    "    loss = loss_func(y, y_train[k])\n",
    "    \n",
    "    #шаг градиентного спуска\n",
    "    optimizer.zero_grad()\n",
    "    loss.backward()\n",
    "    optimizer.step()\n",
    "    "
   ]
  },
  {
   "cell_type": "code",
   "execution_count": 7,
   "metadata": {},
   "outputs": [
    {
     "data": {
      "text/plain": [
       "NetGirl(\n",
       "  (layer1): Linear(in_features=3, out_features=2, bias=True)\n",
       "  (layer2): Linear(in_features=2, out_features=1, bias=True)\n",
       ")"
      ]
     },
     "execution_count": 7,
     "metadata": {},
     "output_type": "execute_result"
    }
   ],
   "source": [
    "model.eval()\n",
    "\n",
    "#отключение локального градиента\n",
    "#model.requires_grad_(False) \n",
    "\n",
    "#включение локального градиента\n",
    "#model.requires_grad_(True) "
   ]
  },
  {
   "cell_type": "code",
   "execution_count": 8,
   "metadata": {},
   "outputs": [
    {
     "name": "stdout",
     "output_type": "stream",
     "text": [
      "Выходное значение НС: tensor([-0.9812]) => -1.0\n",
      "Выходное значение НС: tensor([0.9989]) => 1.0\n",
      "Выходное значение НС: tensor([-0.9987]) => -1.0\n",
      "Выходное значение НС: tensor([0.9824]) => 1.0\n",
      "Выходное значение НС: tensor([-0.9987]) => -1.0\n",
      "Выходное значение НС: tensor([0.9820]) => 1.0\n",
      "Выходное значение НС: tensor([-0.9990]) => -1.0\n",
      "Выходное значение НС: tensor([-0.9732]) => -1.0\n"
     ]
    }
   ],
   "source": [
    "for x, d in zip(x_train, y_train):\n",
    "    with torch.no_grad(): # отключение локального градиента\n",
    "        y = model(x)\n",
    "        print(f'Выходное значение НС: {y.data} => {d}')"
   ]
  },
  {
   "cell_type": "markdown",
   "metadata": {},
   "source": [
    "#### создание НС напрямую"
   ]
  },
  {
   "cell_type": "code",
   "execution_count": 9,
   "metadata": {},
   "outputs": [],
   "source": [
    "def forward(inp, l1: nn.Linear, l2: nn.Linear):\n",
    "    u1 = l1.forward(inp)\n",
    "    s1 = F.tanh(u1)\n",
    "    \n",
    "    u2 = l2.forward(s1)\n",
    "    s2 = F.tanh(u2)\n",
    "    return s2"
   ]
  },
  {
   "cell_type": "code",
   "execution_count": 10,
   "metadata": {},
   "outputs": [
    {
     "name": "stdout",
     "output_type": "stream",
     "text": [
      "Parameter containing:\n",
      "tensor([[-0.5300, -0.0917,  0.5600],\n",
      "        [ 0.0619, -0.1564, -0.3987]], requires_grad=True)\n",
      "Parameter containing:\n",
      "tensor([-0.3871,  0.2471], requires_grad=True)\n"
     ]
    }
   ],
   "source": [
    "layer1 = nn.Linear(in_features=3, out_features=2)\n",
    "layer2 = nn.Linear(in_features=2, out_features=1) # layer2 = nn.Linear(2, 1)\n",
    "\n",
    "print(layer1.weight)\n",
    "print(layer1.bias)"
   ]
  },
  {
   "cell_type": "code",
   "execution_count": 11,
   "metadata": {},
   "outputs": [],
   "source": [
    "layer1.weight.data = torch.tensor([[0.7402, 0.6008, -1.3340], [0.2098, 0.4537, -0.7692]])\n",
    "layer1.bias.data = torch.tensor([0.5505, 0.3719])\n",
    "\n",
    "layer2.weight.data = torch.tensor([[-2.0719, -0.9485]])\n",
    "layer2.bias.data = torch.tensor([-0.1461])"
   ]
  },
  {
   "cell_type": "code",
   "execution_count": 12,
   "metadata": {},
   "outputs": [
    {
     "name": "stdout",
     "output_type": "stream",
     "text": [
      "tensor([0.9165])\n"
     ]
    }
   ],
   "source": [
    "x = torch.FloatTensor([1, -1, 1])\n",
    "y = forward(x, layer1, layer2)\n",
    "\n",
    "print(y.data)"
   ]
  }
 ],
 "metadata": {
  "kernelspec": {
   "display_name": "pytorch",
   "language": "python",
   "name": "python3"
  },
  "language_info": {
   "codemirror_mode": {
    "name": "ipython",
    "version": 3
   },
   "file_extension": ".py",
   "mimetype": "text/x-python",
   "name": "python",
   "nbconvert_exporter": "python",
   "pygments_lexer": "ipython3",
   "version": "3.11.9"
  }
 },
 "nbformat": 4,
 "nbformat_minor": 2
}
