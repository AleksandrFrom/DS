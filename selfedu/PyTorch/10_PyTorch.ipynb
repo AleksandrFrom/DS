{
 "cells": [
  {
   "cell_type": "markdown",
   "metadata": {},
   "source": [
    "# 10. Персептрон - возможности классификации образов"
   ]
  },
  {
   "cell_type": "code",
   "execution_count": 1,
   "metadata": {},
   "outputs": [],
   "source": [
    "import torch\n",
    "import numpy as np\n",
    "import matplotlib.pyplot as plt"
   ]
  },
  {
   "cell_type": "code",
   "execution_count": 6,
   "metadata": {},
   "outputs": [
    {
     "name": "stdout",
     "output_type": "stream",
     "text": [
      "Класс С1\n",
      "Класс С1\n",
      "Класс С1\n",
      "Класс С1\n",
      "Класс С1\n"
     ]
    },
    {
     "data": {
      "image/png": "[encoded data removed]",
      "text/plain": [
       "<Figure size 640x480 with 1 Axes>"
      ]
     },
     "metadata": {},
     "output_type": "display_data"
    }
   ],
   "source": [
    "N = 5\n",
    "b = 3\n",
    "\n",
    "x1 = torch.rand(N)\n",
    "x2 = x1 + torch.randint(1, 10, [N]) / 10 + b\n",
    "c1 = torch.vstack([x1, x2, torch.ones(N)]).mT\n",
    "\n",
    "x1 = torch.rand(N)\n",
    "x2 = x1 - torch.randint(1, 10, [N]) / 10 + b\n",
    "c2 = torch.vstack([x1, x2, torch.ones(N)]).mT\n",
    "\n",
    "f = [0 + b, 1 + b]\n",
    "w1 = -0.5\n",
    "w2 = - w1\n",
    "w3 = -b * w2\n",
    "w = torch.FloatTensor([w1, w2, w3])\n",
    "\n",
    "for i in range(N):\n",
    "    x = c1[:][i]\n",
    "    y = torch.dot(w, x)\n",
    "    if y >= 0:\n",
    "        print('Класс С1')\n",
    "    else:\n",
    "        print('Класс С2')\n",
    "        \n",
    "plt.scatter(c1[:, 0], c1[:, 1], s=10, c='red')\n",
    "plt.scatter(c2[:, 0], c2[:, 1], s=10, c='blue')\n",
    "plt.plot(f)\n",
    "plt.grid()\n",
    "plt.show()"
   ]
  },
  {
   "cell_type": "code",
   "execution_count": null,
   "metadata": {},
   "outputs": [],
   "source": [
    "w = torch.FloatTensor([-0.3, 0.3])\n",
    "for i in range(N):\n",
    "    x = c2[:][i]\n",
    "    y = torch.dot(w, x)\n",
    "    if y >= 0:\n",
    "        print('Класс С1')\n",
    "    else:\n",
    "        print('Класс С2')\n",
    "        \n",
    "plt.scatter(c1[:, 0], c1[:, 1], s=10, c='red')\n",
    "plt.scatter(c2[:, 0], c2[:, 1], s=10, c='blue')\n",
    "plt.plot(f)\n",
    "plt.grid()\n",
    "plt.show()"
   ]
  },
  {
   "cell_type": "code",
   "execution_count": 10,
   "metadata": {},
   "outputs": [
    {
     "name": "stdout",
     "output_type": "stream",
     "text": [
      "tensor([-0.5000,  0.5000])\n",
      "tensor([0., 1., 1.])\n",
      "1\n"
     ]
    }
   ],
   "source": [
    "#задача XOR\n",
    "\n",
    "def act(x):\n",
    "    return 0 if x <= 0 else 1\n",
    "\n",
    "w_hidden = torch.FloatTensor([[1, 1, -1.5], [1, 1, -0.5]])\n",
    "w_out = torch.FloatTensor([-1, 1, -0.5])\n",
    "\n",
    "#C1 = [(1, 0), (0,1)]\n",
    "#C2 = [(0, 0), (1, 1)]\n",
    "\n",
    "data_x = [1, 0] # входные данные x1 , x2\n",
    "x = torch.FloatTensor(data_x + [1])\n",
    "\n",
    "z_hidden = torch.matmul(w_hidden, x)\n",
    "print(z_hidden)\n",
    "\n",
    "u_hidden = torch.FloatTensor([act(x) for x in z_hidden] + [1])\n",
    "print(u_hidden)\n",
    "\n",
    "z_out = torch.dot(w_out, u_hidden)\n",
    "y = act(z_out)\n",
    "print(y)"
   ]
  }
 ],
 "metadata": {
  "kernelspec": {
   "display_name": "pytorch",
   "language": "python",
   "name": "python3"
  },
  "language_info": {
   "codemirror_mode": {
    "name": "ipython",
    "version": 3
   },
   "file_extension": ".py",
   "mimetype": "text/x-python",
   "name": "python",
   "nbconvert_exporter": "python",
   "pygments_lexer": "ipython3",
   "version": "3.11.9"
  }
 },
 "nbformat": 4,
 "nbformat_minor": 2
}
