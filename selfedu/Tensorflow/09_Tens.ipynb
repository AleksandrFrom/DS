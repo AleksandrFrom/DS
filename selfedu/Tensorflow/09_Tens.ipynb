{
 "cells": [
  {
   "cell_type": "markdown",
   "metadata": {},
   "source": [
    "# 9. Введение в модели и слои бэкэнда Keras"
   ]
  },
  {
   "cell_type": "code",
   "execution_count": 89,
   "metadata": {},
   "outputs": [],
   "source": [
    "import os\n",
    "\n",
    "os.environ['TF_CPP_MIN_LOG_LEVEL'] = '2'\n",
    "\n",
    "import tensorflow as tf\n",
    "from tensorflow.keras.datasets import mnist\n",
    "from tensorflow.keras.utils import to_categorical\n",
    "import numpy as np"
   ]
  },
  {
   "cell_type": "code",
   "execution_count": 90,
   "metadata": {},
   "outputs": [],
   "source": [
    "#простой слой нейронной сети\n",
    "class DenseLayer(tf.keras.layers.Layer):\n",
    "    def __init__(self, units=1):\n",
    "        super().__init__()\n",
    "        self.units = units\n",
    "        \n",
    "    def build(self, input_shape):\n",
    "        self.w = self.add_weight(shape=(input_shape[-1], self.units),\n",
    "                                 initializer = 'random_normal',\n",
    "                                 trainable = True)\n",
    "        self.b = self.add_weight(shape=(self.units,), initializer='zeros', trainable = True)\n",
    "        \n",
    "    def call(self, inputs):\n",
    "        return tf.matmul(inputs, self.w) + self.b"
   ]
  },
  {
   "cell_type": "code",
   "execution_count": 91,
   "metadata": {},
   "outputs": [],
   "source": [
    "#простой слой нейронной сети с учетом квадрата коэффициента w\n",
    "class DenseLayer(tf.keras.layers.Layer):\n",
    "    def __init__(self, units=1):\n",
    "        super().__init__()\n",
    "        self.units = units\n",
    "        \n",
    "    def build(self, input_shape):\n",
    "        self.w = self.add_weight(shape=(input_shape[-1], self.units),\n",
    "                                 initializer = 'random_normal',\n",
    "                                 trainable = True)\n",
    "        self.b = self.add_weight(shape=(self.units,), initializer='zeros', trainable = True)\n",
    "        \n",
    "    def call(self, inputs):\n",
    "        regular = tf.reduce_mean(tf.square(self.w))\n",
    "        self.add_loss(regular)\n",
    "        return tf.matmul(inputs, self.w) + self.b"
   ]
  },
  {
   "cell_type": "code",
   "execution_count": 92,
   "metadata": {},
   "outputs": [],
   "source": [
    "#простой слой нейронной сети с учетом квадрата коэффициента w\n",
    "class DenseLayer(tf.keras.layers.Layer):\n",
    "    def __init__(self, units=1):\n",
    "        super().__init__()\n",
    "        self.units = units\n",
    "        \n",
    "    def build(self, input_shape):\n",
    "        self.w = self.add_weight(shape=(input_shape[-1], self.units),\n",
    "                                 initializer = 'random_normal',\n",
    "                                 trainable = True)\n",
    "        self.b = self.add_weight(shape=(self.units,), initializer='zeros', trainable = True)\n",
    "        \n",
    "    def call(self, inputs):\n",
    "        regular = 100.0 * tf.reduce_mean(tf.square(self.w))\n",
    "        self.add_loss(regular)\n",
    "        return tf.matmul(inputs, self.w) + self.b"
   ]
  },
  {
   "cell_type": "code",
   "execution_count": 93,
   "metadata": {},
   "outputs": [],
   "source": [
    "#простой слой нейронной сети с учетом квадрата коэффициента w\n",
    "class DenseLayer(tf.keras.layers.Layer):\n",
    "    def __init__(self, units=1):\n",
    "        super().__init__()\n",
    "        self.units = units\n",
    "        \n",
    "    def build(self, input_shape):\n",
    "        self.w = self.add_weight(shape=(input_shape[-1], self.units),\n",
    "                                 initializer = 'random_normal',\n",
    "                                 trainable = True)\n",
    "        self.b = self.add_weight(shape=(self.units,), initializer='zeros', trainable = True)\n",
    "        \n",
    "    def call(self, inputs):\n",
    "        regular = 100.0 * tf.reduce_mean(tf.square(self.w))\n",
    "        self.add_loss(regular)\n",
    "        #self.add_metric(regular, name='mean square weights')\n",
    "        return tf.matmul(inputs, self.w) + self.b"
   ]
  },
  {
   "cell_type": "code",
   "execution_count": 94,
   "metadata": {},
   "outputs": [
    {
     "name": "stdout",
     "output_type": "stream",
     "text": [
      "tf.Tensor(\n",
      "[[-0.02925574 -0.15939854 -0.2809341  -0.07654926 -0.17173947 -0.25705773\n",
      "  -0.2329928   0.07906337  0.07758674  0.01086005]], shape=(1, 10), dtype=float32)\n"
     ]
    }
   ],
   "source": [
    "layer1 = DenseLayer(10)\n",
    "y = layer1(tf.constant([[1., 2., 3.]]))\n",
    "print(y)"
   ]
  },
  {
   "cell_type": "code",
   "execution_count": 95,
   "metadata": {},
   "outputs": [],
   "source": [
    "#более сложный слой нейронной сети\n",
    "class NeuralNetwork(tf.keras.layers.Layer):\n",
    "    def __init__(self):\n",
    "        super().__init__()\n",
    "        self.layer_1 = DenseLayer(128)\n",
    "        self.layer_2 = DenseLayer(10)\n",
    "        \n",
    "    def call(self, inputs):\n",
    "        x = self.layer_1(inputs)\n",
    "        x = tf.nn.relu(x)\n",
    "        x = self.layer_2(x)\n",
    "        x = tf.nn.softmax(x)\n",
    "        return x"
   ]
  },
  {
   "cell_type": "code",
   "execution_count": 96,
   "metadata": {},
   "outputs": [
    {
     "name": "stdout",
     "output_type": "stream",
     "text": [
      "tf.Tensor(\n",
      "[[0.09876402 0.09579457 0.10404859 0.10048227 0.11013084 0.09405077\n",
      "  0.0891322  0.10896634 0.09979652 0.09883394]], shape=(1, 10), dtype=float32)\n"
     ]
    }
   ],
   "source": [
    "model = NeuralNetwork()\n",
    "y = model(tf.constant([[1., 2., 3.]]))\n",
    "print(y)"
   ]
  },
  {
   "cell_type": "code",
   "execution_count": 97,
   "metadata": {},
   "outputs": [],
   "source": [
    "#полноценная модель нейронной сети\n",
    "class NeuralNetwork(tf.keras.Model):\n",
    "    def __init__(self):\n",
    "        super().__init__()\n",
    "        self.layer_1 = DenseLayer(128)\n",
    "        self.layer_2 = DenseLayer(10)\n",
    "        \n",
    "    def call(self, inputs):\n",
    "        x = self.layer_1(inputs)\n",
    "        x = tf.nn.relu(x)\n",
    "        x = self.layer_2(x)\n",
    "        x = tf.nn.softmax(x)\n",
    "        return x"
   ]
  },
  {
   "cell_type": "code",
   "execution_count": 98,
   "metadata": {},
   "outputs": [],
   "source": [
    "model = NeuralNetwork()\n",
    "\n",
    "#model.compile(optimizer = tf.keras.optimizers.Adam(learning_rate=0.001),\n",
    "#              loss = tf.losses.categorical_crossentropy,\n",
    "#              metrics = ['accuracy'])\n",
    "\n",
    "#если используются стандартные параметры\n",
    "model.compile(optimizer = 'adam',\n",
    "              loss = 'categorical_crossentropy',\n",
    "              metrics = ['accuracy'])"
   ]
  },
  {
   "cell_type": "code",
   "execution_count": 99,
   "metadata": {},
   "outputs": [],
   "source": [
    "(x_train, y_train), (x_test, y_test) = mnist.load_data()\n",
    "\n",
    "x_train = x_train / 255\n",
    "x_test = x_test / 255\n",
    "\n",
    "x_train = tf.reshape(tf.cast(x_train, tf.float32), [-1, 28*28])\n",
    "x_test = tf.reshape(tf.cast(x_test, tf.float32), [-1, 28*28])\n",
    "\n",
    "y_train = to_categorical(y_train, 10)\n",
    "y_test_cat = to_categorical(y_test, 10)"
   ]
  },
  {
   "cell_type": "code",
   "execution_count": 100,
   "metadata": {},
   "outputs": [
    {
     "name": "stdout",
     "output_type": "stream",
     "text": [
      "Epoch 1/5\n",
      "\u001b[1m1875/1875\u001b[0m \u001b[32m━━━━━━━━━━━━━━━━━━━━\u001b[0m\u001b[37m\u001b[0m \u001b[1m2s\u001b[0m 776us/step - accuracy: 0.8495 - loss: 0.9794\n",
      "Epoch 2/5\n",
      "\u001b[1m1875/1875\u001b[0m \u001b[32m━━━━━━━━━━━━━━━━━━━━\u001b[0m\u001b[37m\u001b[0m \u001b[1m1s\u001b[0m 707us/step - accuracy: 0.9098 - loss: 0.6863\n",
      "Epoch 3/5\n",
      "\u001b[1m1875/1875\u001b[0m \u001b[32m━━━━━━━━━━━━━━━━━━━━\u001b[0m\u001b[37m\u001b[0m \u001b[1m1s\u001b[0m 717us/step - accuracy: 0.9130 - loss: 0.6768\n",
      "Epoch 4/5\n",
      "\u001b[1m1875/1875\u001b[0m \u001b[32m━━━━━━━━━━━━━━━━━━━━\u001b[0m\u001b[37m\u001b[0m \u001b[1m1s\u001b[0m 695us/step - accuracy: 0.9144 - loss: 0.6720\n",
      "Epoch 5/5\n",
      "\u001b[1m1875/1875\u001b[0m \u001b[32m━━━━━━━━━━━━━━━━━━━━\u001b[0m\u001b[37m\u001b[0m \u001b[1m1s\u001b[0m 687us/step - accuracy: 0.9124 - loss: 0.6725\n"
     ]
    },
    {
     "data": {
      "text/plain": [
       "<keras.src.callbacks.history.History at 0x727bb6d40b10>"
      ]
     },
     "execution_count": 100,
     "metadata": {},
     "output_type": "execute_result"
    }
   ],
   "source": [
    "model.fit(x_train, y_train, batch_size=32, epochs=5)"
   ]
  },
  {
   "cell_type": "code",
   "execution_count": 101,
   "metadata": {},
   "outputs": [
    {
     "name": "stdout",
     "output_type": "stream",
     "text": [
      "\u001b[1m313/313\u001b[0m \u001b[32m━━━━━━━━━━━━━━━━━━━━\u001b[0m\u001b[37m\u001b[0m \u001b[1m0s\u001b[0m 382us/step - accuracy: 0.9043 - loss: 0.6957\n",
      "[0.6473490595817566, 0.9193000197410583]\n"
     ]
    }
   ],
   "source": [
    "print(model.evaluate(x_test, y_test_cat))"
   ]
  }
 ],
 "metadata": {
  "kernelspec": {
   "display_name": "tens",
   "language": "python",
   "name": "python3"
  },
  "language_info": {
   "codemirror_mode": {
    "name": "ipython",
    "version": 3
   },
   "file_extension": ".py",
   "mimetype": "text/x-python",
   "name": "python",
   "nbconvert_exporter": "python",
   "pygments_lexer": "ipython3",
   "version": "3.11.9"
  }
 },
 "nbformat": 4,
 "nbformat_minor": 2
}
