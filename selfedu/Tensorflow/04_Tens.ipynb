{
 "cells": [
  {
   "cell_type": "markdown",
   "metadata": {},
   "source": [
    "# 4. Реализация автоматического дифференцирования. Объект GradientTape"
   ]
  },
  {
   "cell_type": "code",
   "execution_count": 1,
   "metadata": {},
   "outputs": [
    {
     "name": "stderr",
     "output_type": "stream",
     "text": [
      "2024-10-02 22:14:43.710187: E external/local_xla/xla/stream_executor/cuda/cuda_fft.cc:485] Unable to register cuFFT factory: Attempting to register factory for plugin cuFFT when one has already been registered\n",
      "2024-10-02 22:14:43.877528: E external/local_xla/xla/stream_executor/cuda/cuda_dnn.cc:8454] Unable to register cuDNN factory: Attempting to register factory for plugin cuDNN when one has already been registered\n",
      "2024-10-02 22:14:43.923983: E external/local_xla/xla/stream_executor/cuda/cuda_blas.cc:1452] Unable to register cuBLAS factory: Attempting to register factory for plugin cuBLAS when one has already been registered\n"
     ]
    }
   ],
   "source": [
    "import os\n",
    "\n",
    "os.environ['TF_CPP_MIN_LOG_LEVEL'] = '2'\n",
    "\n",
    "import tensorflow as tf\n",
    "import numpy as np"
   ]
  },
  {
   "cell_type": "code",
   "execution_count": 2,
   "metadata": {},
   "outputs": [
    {
     "name": "stdout",
     "output_type": "stream",
     "text": [
      "tf.Tensor(-4.0, shape=(), dtype=float32)\n"
     ]
    }
   ],
   "source": [
    "x = tf.Variable(-2.0)\n",
    "\n",
    "with tf.GradientTape() as tape:\n",
    "    y = x**2\n",
    "    \n",
    "df = tape.gradient(y, x)\n",
    "print(df)"
   ]
  },
  {
   "cell_type": "code",
   "execution_count": 3,
   "metadata": {},
   "outputs": [],
   "source": [
    "w = tf.Variable(tf.random.normal((3, 2)))\n",
    "b = tf.Variable(tf.zeros(2, dtype=tf.float32))\n",
    "x = tf.Variable([[-2.0, 1.0, 3.0]])"
   ]
  },
  {
   "cell_type": "code",
   "execution_count": 4,
   "metadata": {},
   "outputs": [
    {
     "name": "stdout",
     "output_type": "stream",
     "text": [
      "tf.Tensor(\n",
      "[[ 10.114283  -13.703579 ]\n",
      " [ -5.0571413   6.8517895]\n",
      " [-15.171424   20.555368 ]], shape=(3, 2), dtype=float32)\n",
      "tf.Tensor([-5.0571413  6.8517895], shape=(2,), dtype=float32)\n"
     ]
    }
   ],
   "source": [
    "with tf.GradientTape() as tape:\n",
    "    y = x @ w + b\n",
    "    loss = tf.reduce_mean(y ** 2)\n",
    "    \n",
    "df = tape.gradient(loss, [w, b])\n",
    "print(df[0], df[1], sep=\"\\n\")"
   ]
  },
  {
   "cell_type": "code",
   "execution_count": 5,
   "metadata": {},
   "outputs": [],
   "source": [
    "x = tf.Variable(0, dtype=tf.float32)\n",
    "b = tf.constant(1.5) #производная для константы не вычисляется"
   ]
  },
  {
   "cell_type": "code",
   "execution_count": 6,
   "metadata": {},
   "outputs": [
    {
     "name": "stdout",
     "output_type": "stream",
     "text": [
      "tf.Tensor(3.0, shape=(), dtype=float32)\n",
      "None\n"
     ]
    }
   ],
   "source": [
    "with tf.GradientTape() as tape:\n",
    "    f = (x + b) ** 2 + 2*b\n",
    "    \n",
    "df = tape.gradient(f, [x, b])\n",
    "print(df[0], df[1], sep=\"\\n\")"
   ]
  },
  {
   "cell_type": "code",
   "execution_count": 7,
   "metadata": {},
   "outputs": [
    {
     "name": "stdout",
     "output_type": "stream",
     "text": [
      "tf.Tensor(3.0, shape=(), dtype=float32)\n",
      "tf.Tensor(5.0, shape=(), dtype=float32)\n"
     ]
    }
   ],
   "source": [
    "x = tf.Variable(0, dtype=tf.float32)\n",
    "b = tf.Variable(1.5)\n",
    "\n",
    "with tf.GradientTape() as tape:\n",
    "    f = (x + b) ** 2 + 2*b\n",
    "    \n",
    "df = tape.gradient(f, [x, b])\n",
    "print(df[0], df[1], sep=\"\\n\")"
   ]
  },
  {
   "cell_type": "code",
   "execution_count": 8,
   "metadata": {},
   "outputs": [
    {
     "name": "stdout",
     "output_type": "stream",
     "text": [
      "None\n",
      "tf.Tensor(5.0, shape=(), dtype=float32)\n"
     ]
    }
   ],
   "source": [
    "x = tf.Variable(0, dtype=tf.float32, trainable=False) #запрет вычисления производной\n",
    "b = tf.Variable(1.5)\n",
    "\n",
    "with tf.GradientTape() as tape:\n",
    "    f = (x + b) ** 2 + 2*b\n",
    "    \n",
    "df = tape.gradient(f, [x, b])\n",
    "print(df[0], df[1], sep=\"\\n\")"
   ]
  },
  {
   "cell_type": "code",
   "execution_count": 9,
   "metadata": {},
   "outputs": [
    {
     "name": "stdout",
     "output_type": "stream",
     "text": [
      "None\n",
      "None\n"
     ]
    }
   ],
   "source": [
    "x = tf.Variable(0, dtype=tf.float32, trainable=False) #запрет вычисления производной\n",
    "b = tf.Variable(1.5) + 1 #производная для константы не вычисляется\n",
    "\n",
    "with tf.GradientTape() as tape:\n",
    "    f = (x + b) ** 2 + 2*b\n",
    "    \n",
    "df = tape.gradient(f, [x, b])\n",
    "print(df[0], df[1], sep=\"\\n\")"
   ]
  },
  {
   "cell_type": "code",
   "execution_count": 10,
   "metadata": {},
   "outputs": [
    {
     "name": "stdout",
     "output_type": "stream",
     "text": [
      "None\n",
      "None\n"
     ]
    }
   ],
   "source": [
    "x = tf.Variable(0, dtype=tf.float32) \n",
    "b = tf.Variable(1.5) \n",
    "\n",
    "with tf.GradientTape(watch_accessed_variables=False) as tape: #отключение отслеживания всех вычислений\n",
    "    f = (x + b) ** 2 + 2*b\n",
    "    \n",
    "df = tape.gradient(f, [x, b])\n",
    "print(df[0], df[1], sep=\"\\n\")"
   ]
  },
  {
   "cell_type": "code",
   "execution_count": 11,
   "metadata": {},
   "outputs": [
    {
     "name": "stdout",
     "output_type": "stream",
     "text": [
      "tf.Tensor(3.0, shape=(), dtype=float32)\n",
      "None\n"
     ]
    }
   ],
   "source": [
    "x = tf.Variable(0, dtype=tf.float32) \n",
    "b = tf.Variable(1.5) \n",
    "\n",
    "with tf.GradientTape(watch_accessed_variables=False) as tape: \n",
    "    tape.watch(x) #отслеживание определенной переменной\n",
    "    f = (x + b) ** 2 + 2*b\n",
    "    \n",
    "df = tape.gradient(f, [x, b])\n",
    "print(df[0], df[1], sep=\"\\n\")"
   ]
  },
  {
   "cell_type": "code",
   "execution_count": 12,
   "metadata": {},
   "outputs": [
    {
     "name": "stdout",
     "output_type": "stream",
     "text": [
      "tf.Tensor(3.0, shape=(), dtype=float32)\n",
      "tf.Tensor(5.0, shape=(), dtype=float32)\n"
     ]
    }
   ],
   "source": [
    "x = tf.Variable(0, dtype=tf.float32) \n",
    "b = tf.Variable(1.5) \n",
    "\n",
    "with tf.GradientTape(watch_accessed_variables=False) as tape: \n",
    "    tape.watch([x, b]) #отслеживание определенной переменной\n",
    "    f = (x + b) ** 2 + 2*b\n",
    "    \n",
    "df = tape.gradient(f, [x, b])\n",
    "print(df[0], df[1], sep=\"\\n\")"
   ]
  },
  {
   "cell_type": "code",
   "execution_count": 13,
   "metadata": {},
   "outputs": [
    {
     "name": "stdout",
     "output_type": "stream",
     "text": [
      "tf.Tensor(0.0, shape=(), dtype=float32)\n"
     ]
    }
   ],
   "source": [
    "x = tf.Variable(0, dtype=tf.float32) \n",
    "b = tf.Variable(1.5) \n",
    "\n",
    "with tf.GradientTape(watch_accessed_variables=False) as tape: \n",
    "    tape.watch(x) #отслеживание определенной переменной\n",
    "    y = 2 * x\n",
    "    f = y * y\n",
    "    \n",
    "df = tape.gradient(f, y)\n",
    "print(df)"
   ]
  },
  {
   "cell_type": "code",
   "execution_count": 14,
   "metadata": {},
   "outputs": [
    {
     "name": "stdout",
     "output_type": "stream",
     "text": [
      "[<tf.Tensor: shape=(), dtype=float32, numpy=0.0>, <tf.Tensor: shape=(), dtype=float32, numpy=0.0>]\n"
     ]
    }
   ],
   "source": [
    "x = tf.Variable(0, dtype=tf.float32) \n",
    "b = tf.Variable(1.5) \n",
    "\n",
    "with tf.GradientTape(watch_accessed_variables=False) as tape: \n",
    "    tape.watch(x) #отслеживание определенной переменной\n",
    "    y = 2 * x\n",
    "    f = y * y\n",
    "    \n",
    "df = tape.gradient(f, [x, y])\n",
    "print(df)"
   ]
  },
  {
   "cell_type": "code",
   "execution_count": 16,
   "metadata": {},
   "outputs": [
    {
     "name": "stdout",
     "output_type": "stream",
     "text": [
      "tf.Tensor(0.0, shape=(), dtype=float32)\n",
      "tf.Tensor(0.0, shape=(), dtype=float32)\n"
     ]
    }
   ],
   "source": [
    "x = tf.Variable(0, dtype=tf.float32) \n",
    "b = tf.Variable(1.5) \n",
    "\n",
    "with tf.GradientTape(watch_accessed_variables=False, persistent=True) as tape: \n",
    "    tape.watch(x) #отслеживание определенной переменной\n",
    "    y = 2 * x\n",
    "    f = y * y\n",
    "    \n",
    "df = tape.gradient(f, y)\n",
    "df_dx = tape.gradient(f, x)\n",
    "\n",
    "del tape\n",
    "\n",
    "print(df, df_dx, sep=\"\\n\")"
   ]
  },
  {
   "cell_type": "code",
   "execution_count": 20,
   "metadata": {},
   "outputs": [
    {
     "name": "stdout",
     "output_type": "stream",
     "text": [
      "tf.Tensor(10.0, shape=(), dtype=float32)\n"
     ]
    }
   ],
   "source": [
    "x = tf.Variable(1.0)\n",
    "\n",
    "with tf.GradientTape() as tape:\n",
    "    y = [2.0, 3.0] * x**2\n",
    "\n",
    "\n",
    "df = tape.gradient(y, x)\n",
    "\n",
    "print(df)"
   ]
  },
  {
   "cell_type": "code",
   "execution_count": 27,
   "metadata": {},
   "outputs": [
    {
     "name": "stdout",
     "output_type": "stream",
     "text": [
      "tf.Tensor([ 4. 12.], shape=(2,), dtype=float32)\n"
     ]
    }
   ],
   "source": [
    "x = tf.Variable([1.0, 2.0])\n",
    "\n",
    "with tf.GradientTape() as tape:\n",
    "    y = tf.reduce_sum([2.0, 3.0] * x ** 2)\n",
    "\n",
    "\n",
    "df = tape.gradient(y, x)\n",
    "\n",
    "print(df)"
   ]
  },
  {
   "cell_type": "code",
   "execution_count": 28,
   "metadata": {},
   "outputs": [
    {
     "name": "stdout",
     "output_type": "stream",
     "text": [
      "tf.Tensor(10.0, shape=(), dtype=float32)\n"
     ]
    }
   ],
   "source": [
    "x = tf.Variable(1.0)\n",
    "\n",
    "with tf.GradientTape() as tape:\n",
    "    if x < 2.0:\n",
    "        y = tf.reduce_sum([2.0, 3.0] * x ** 2)\n",
    "    else:\n",
    "        y = x**2\n",
    "\n",
    "\n",
    "df = tape.gradient(y, x)\n",
    "\n",
    "print(df)"
   ]
  },
  {
   "cell_type": "code",
   "execution_count": 32,
   "metadata": {},
   "outputs": [
    {
     "name": "stdout",
     "output_type": "stream",
     "text": [
      "tf.Tensor(12.0, shape=(), dtype=float32)\n"
     ]
    }
   ],
   "source": [
    "x = tf.Variable(1.0)\n",
    "\n",
    "\n",
    "with tf.GradientTape() as tape:\n",
    "    y = 2 * x + 1\n",
    "    z = y ** 2\n",
    "\n",
    "\n",
    "df = tape.gradient(z, x)\n",
    "\n",
    "print(df)"
   ]
  },
  {
   "cell_type": "code",
   "execution_count": 38,
   "metadata": {},
   "outputs": [
    {
     "name": "stdout",
     "output_type": "stream",
     "text": [
      "tf.Tensor(4.0, shape=(), dtype=float32)\n",
      "tf.Tensor(6.0, shape=(), dtype=float32)\n"
     ]
    }
   ],
   "source": [
    "x = tf.Variable(1.0)\n",
    "\n",
    "for n in range(2):\n",
    "    with tf.GradientTape() as tape:\n",
    "        y = x ** 2 + 2* x\n",
    "\n",
    "    df = tape.gradient(y, x)\n",
    "\n",
    "    print(df)\n",
    "    x.assign_add(1.0)"
   ]
  },
  {
   "cell_type": "code",
   "execution_count": 40,
   "metadata": {},
   "outputs": [
    {
     "name": "stdout",
     "output_type": "stream",
     "text": [
      "tf.Tensor(2.0, shape=(), dtype=float32)\n"
     ]
    }
   ],
   "source": [
    "x = tf.Variable(1.0)\n",
    "\n",
    "with tf.GradientTape() as tape:\n",
    "    y = tf.constant(2.0) + x * x\n",
    "\n",
    "\n",
    "df = tape.gradient(y, x)\n",
    "\n",
    "print(df)"
   ]
  },
  {
   "cell_type": "code",
   "execution_count": 44,
   "metadata": {},
   "outputs": [
    {
     "name": "stdout",
     "output_type": "stream",
     "text": [
      "tf.Tensor(2.0, shape=(), dtype=float32)\n"
     ]
    }
   ],
   "source": [
    "x = tf.Variable(1, dtype=tf.float32) # или 1.0\n",
    "\n",
    "with tf.GradientTape() as tape:\n",
    "    y = x * x\n",
    "\n",
    "\n",
    "df = tape.gradient(y, x)\n",
    "\n",
    "print(df)"
   ]
  },
  {
   "cell_type": "code",
   "execution_count": 46,
   "metadata": {},
   "outputs": [
    {
     "name": "stdout",
     "output_type": "stream",
     "text": [
      "None\n"
     ]
    }
   ],
   "source": [
    "x = tf.Variable(1.0)\n",
    "w = tf.Variable(2.0)\n",
    "\n",
    "with tf.GradientTape() as tape:\n",
    "    w.assign_add(x)\n",
    "    y = w**2\n",
    "\n",
    "\n",
    "df = tape.gradient(y, x)\n",
    "\n",
    "print(df)"
   ]
  },
  {
   "cell_type": "code",
   "execution_count": 47,
   "metadata": {},
   "outputs": [
    {
     "name": "stdout",
     "output_type": "stream",
     "text": [
      "tf.Tensor(6.0, shape=(), dtype=float32)\n"
     ]
    }
   ],
   "source": [
    "x = tf.Variable(1.0)\n",
    "w = tf.Variable(2.0)\n",
    "\n",
    "with tf.GradientTape() as tape:\n",
    "    w = w + x\n",
    "    y = w**2\n",
    "\n",
    "\n",
    "df = tape.gradient(y, x)\n",
    "\n",
    "print(df)"
   ]
  }
 ],
 "metadata": {
  "kernelspec": {
   "display_name": "tens",
   "language": "python",
   "name": "python3"
  },
  "language_info": {
   "codemirror_mode": {
    "name": "ipython",
    "version": 3
   },
   "file_extension": ".py",
   "mimetype": "text/x-python",
   "name": "python",
   "nbconvert_exporter": "python",
   "pygments_lexer": "ipython3",
   "version": "3.11.9"
  }
 },
 "nbformat": 4,
 "nbformat_minor": 2
}
