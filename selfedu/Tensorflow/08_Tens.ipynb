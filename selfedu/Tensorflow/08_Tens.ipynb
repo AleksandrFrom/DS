{
 "cells": [
  {
   "cell_type": "markdown",
   "metadata": {},
   "source": [
    "# 8. Декоратор tf.function для ускорения выполнения функций"
   ]
  },
  {
   "cell_type": "code",
   "execution_count": 1,
   "metadata": {},
   "outputs": [
    {
     "name": "stderr",
     "output_type": "stream",
     "text": [
      "2024-10-17 22:49:33.468225: E external/local_xla/xla/stream_executor/cuda/cuda_fft.cc:485] Unable to register cuFFT factory: Attempting to register factory for plugin cuFFT when one has already been registered\n",
      "2024-10-17 22:49:33.479411: E external/local_xla/xla/stream_executor/cuda/cuda_dnn.cc:8454] Unable to register cuDNN factory: Attempting to register factory for plugin cuDNN when one has already been registered\n",
      "2024-10-17 22:49:33.482573: E external/local_xla/xla/stream_executor/cuda/cuda_blas.cc:1452] Unable to register cuBLAS factory: Attempting to register factory for plugin cuBLAS when one has already been registered\n"
     ]
    }
   ],
   "source": [
    "import os\n",
    "\n",
    "os.environ['TF_CPP_MIN_LOG_LEVEL'] = '2'\n",
    "\n",
    "import tensorflow as tf\n",
    "from tensorflow.keras.datasets import mnist\n",
    "from tensorflow.keras.utils import to_categorical\n",
    "import numpy as np"
   ]
  },
  {
   "cell_type": "code",
   "execution_count": 2,
   "metadata": {},
   "outputs": [],
   "source": [
    "(x_train, y_train), (x_test, y_test) = mnist.load_data()\n",
    "\n",
    "x_train = x_train / 255\n",
    "x_test = x_test / 255\n",
    "\n",
    "x_train = tf.reshape(tf.cast(x_train, tf.float32), [-1, 28*28])\n",
    "x_test = tf.reshape(tf.cast(x_test, tf.float32), [-1, 28*28])\n",
    "\n",
    "y_train = to_categorical(y_train, 10)"
   ]
  },
  {
   "cell_type": "code",
   "execution_count": 3,
   "metadata": {},
   "outputs": [],
   "source": [
    "class DenseNN(tf.Module):\n",
    "    def __init__(self, outputs, activate='relu'):\n",
    "        super().__init__()\n",
    "        self.outputs = outputs\n",
    "        self.activate = activate\n",
    "        self.fl_init = False\n",
    "        \n",
    "    def __call__(self, x):\n",
    "        if not self.fl_init:\n",
    "            self.w = tf.random.truncated_normal((x.shape[-1], self.outputs), stddev=0.1, name='w')  \n",
    "            self.b = tf.zeros([self.outputs], dtype=tf.float32, name='b')\n",
    "            \n",
    "            self.w = tf.Variable(self.w)\n",
    "            self.b = tf.Variable(self.b)             \n",
    "            self.fl_init = True\n",
    "            \n",
    "        y = x @ self.w + self.b\n",
    "        \n",
    "        if self.activate == 'relu':\n",
    "            return tf.nn.relu(y)\n",
    "        elif self.activate == 'softmax':\n",
    "            return tf.nn.softmax(y)\n",
    "        \n",
    "        return y\n",
    "    \n",
    "class SequentialModule(tf.Module):\n",
    "    def __init__(self):\n",
    "        super().__init__()\n",
    "        self.layer_1 = DenseNN(128)\n",
    "        self.layer_2 = DenseNN(10, activate='softmax')\n",
    "        \n",
    "    def __call__(self, x):\n",
    "        return self.layer_2(self.layer_1(x))"
   ]
  },
  {
   "cell_type": "code",
   "execution_count": 4,
   "metadata": {},
   "outputs": [],
   "source": [
    "model = SequentialModule()\n",
    "\n",
    "cross_entropy = lambda y_true, y_pred: tf.reduce_mean(tf.losses.categorical_crossentropy(y_true, y_pred))\n",
    "\n",
    "opt = tf.keras.optimizers.Adam(learning_rate=0.01)\n",
    "\n",
    "batch_size = 32\n",
    "epochs = 10\n",
    "total = x_train.shape[0]\n",
    "\n",
    "train_dataset = tf.data.Dataset.from_tensor_slices((x_train, y_train))\n",
    "train_dataset = train_dataset.shuffle(buffer_size=1024).batch(batch_size)"
   ]
  },
  {
   "cell_type": "code",
   "execution_count": 5,
   "metadata": {},
   "outputs": [
    {
     "name": "stdout",
     "output_type": "stream",
     "text": [
      "427.97458\n",
      "298.4348\n",
      "259.79315\n",
      "242.99739\n",
      "219.41093\n",
      "221.73846\n",
      "212.92538\n",
      "191.5984\n",
      "202.26596\n",
      "171.78041\n"
     ]
    }
   ],
   "source": [
    "@tf.function #декоратор для выполнения работы нейронной сети на уровни графов\n",
    "def train_batch(x_batch, y_batch):\n",
    "    with tf.GradientTape() as tape:\n",
    "        f_loss = cross_entropy(y_batch, model(x_batch))\n",
    "            \n",
    "        #loss += f_loss\n",
    "    grads = tape.gradient(f_loss, model.trainable_variables)\n",
    "    opt.apply_gradients(zip(grads, model.trainable_variables))\n",
    "    return f_loss\n",
    "\n",
    "for n in range(epochs):\n",
    "    loss = 0\n",
    "    for x_batch, y_batch in train_dataset:\n",
    "        loss += train_batch(x_batch, y_batch)\n",
    "        \n",
    "    print(loss.numpy())"
   ]
  },
  {
   "cell_type": "code",
   "execution_count": 7,
   "metadata": {},
   "outputs": [
    {
     "name": "stdout",
     "output_type": "stream",
     "text": [
      "95.82000000000001\n"
     ]
    }
   ],
   "source": [
    "y = model(x_test)\n",
    "y2 = tf.argmax(y, axis=1).numpy()\n",
    "acc = len(y_test[y_test == y2]) / y_test.shape[0] * 100\n",
    "print(acc)"
   ]
  },
  {
   "cell_type": "markdown",
   "metadata": {},
   "source": [
    "Пример декоратора для перевода вычислений в графы"
   ]
  },
  {
   "cell_type": "code",
   "execution_count": 10,
   "metadata": {},
   "outputs": [],
   "source": [
    "import time"
   ]
  },
  {
   "cell_type": "code",
   "execution_count": 15,
   "metadata": {},
   "outputs": [],
   "source": [
    "def function_tf(x, y):\n",
    "    s = tf.zeros_like(x, dtype=tf.float32)\n",
    "    s = s + tf.matmul(x, y)\n",
    "    for n in range(10):\n",
    "        s = s + tf.matmul(s, y) * x\n",
    "    \n",
    "    return s \n",
    "\n",
    "def test_function(fn):\n",
    "    def wrapper(*args, **kwargs):\n",
    "        start = time.time()\n",
    "        for n in range(10):\n",
    "            fn(*args, **kwargs)\n",
    "        dt = time.time() - start\n",
    "        print(f\"Время обработки: {dt} сек\")\n",
    "        \n",
    "    return wrapper"
   ]
  },
  {
   "cell_type": "code",
   "execution_count": 12,
   "metadata": {},
   "outputs": [],
   "source": [
    "size = 1000\n",
    "x = tf.ones((size, size), dtype=tf.float32)\n",
    "y = tf.ones_like(x, dtype=tf.float32)"
   ]
  },
  {
   "cell_type": "code",
   "execution_count": 13,
   "metadata": {},
   "outputs": [],
   "source": [
    "function_tf_graph = tf.function(function_tf)"
   ]
  },
  {
   "cell_type": "code",
   "execution_count": 16,
   "metadata": {},
   "outputs": [
    {
     "name": "stdout",
     "output_type": "stream",
     "text": [
      "Время обработки: 0.47199010848999023 сек\n",
      "Время обработки: 0.3979959487915039 сек\n"
     ]
    }
   ],
   "source": [
    "test_function(function_tf)(x, y)\n",
    "test_function(function_tf_graph)(x, y)"
   ]
  },
  {
   "cell_type": "markdown",
   "metadata": {},
   "source": [
    "Модификация кода для ускорения"
   ]
  },
  {
   "cell_type": "code",
   "execution_count": 24,
   "metadata": {},
   "outputs": [],
   "source": [
    "def function_for(s, x, y):\n",
    "    for n in range(10):\n",
    "        s = s + tf.matmul(s, y) * x\n",
    "    \n",
    "    return s \n",
    "\n",
    "def function_tf(x, y):\n",
    "    print(\"вызов функции print\")\n",
    "    s = tf.zeros_like(x, dtype=tf.float32)\n",
    "    s = s + tf.matmul(x, y)\n",
    "        \n",
    "    return function_for(s, x, y)\n",
    "\n",
    "def test_function(fn):\n",
    "    def wrapper(*args, **kwargs):\n",
    "        start = time.time()\n",
    "        for n in range(10):\n",
    "            fn(*args, **kwargs)\n",
    "        dt = time.time() - start\n",
    "        print(f\"Время обработки: {dt} сек\")\n",
    "        \n",
    "    return wrapper"
   ]
  },
  {
   "cell_type": "code",
   "execution_count": 22,
   "metadata": {},
   "outputs": [],
   "source": [
    "size = 1000\n",
    "x = tf.ones((size, size), dtype=tf.float32)\n",
    "y = tf.ones_like(x, dtype=tf.float32)\n",
    "\n",
    "function_tf_graph = tf.function(function_tf)"
   ]
  },
  {
   "cell_type": "code",
   "execution_count": 25,
   "metadata": {},
   "outputs": [
    {
     "name": "stdout",
     "output_type": "stream",
     "text": [
      "вызов функции print\n",
      "вызов функции print\n",
      "вызов функции print\n",
      "вызов функции print\n",
      "вызов функции print\n",
      "вызов функции print\n",
      "вызов функции print\n",
      "вызов функции print\n",
      "вызов функции print\n",
      "вызов функции print\n",
      "Время обработки: 0.49132871627807617 сек\n",
      "Время обработки: 0.39866089820861816 сек\n"
     ]
    }
   ],
   "source": [
    "test_function(function_tf)(x, y)\n",
    "test_function(function_tf_graph)(x, y)"
   ]
  }
 ],
 "metadata": {
  "kernelspec": {
   "display_name": "tens",
   "language": "python",
   "name": "python3"
  },
  "language_info": {
   "codemirror_mode": {
    "name": "ipython",
    "version": 3
   },
   "file_extension": ".py",
   "mimetype": "text/x-python",
   "name": "python",
   "nbconvert_exporter": "python",
   "pygments_lexer": "ipython3",
   "version": "3.11.9"
  }
 },
 "nbformat": 4,
 "nbformat_minor": 2
}
