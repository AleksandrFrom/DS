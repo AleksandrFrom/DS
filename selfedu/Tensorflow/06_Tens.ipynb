{
 "cells": [
  {
   "cell_type": "markdown",
   "metadata": {},
   "source": [
    "# 6. Делаем модель с помощью класса tf.Module. Пример обучения простой нейросети"
   ]
  },
  {
   "cell_type": "code",
   "execution_count": 1,
   "metadata": {},
   "outputs": [
    {
     "name": "stderr",
     "output_type": "stream",
     "text": [
      "2024-10-15 22:48:27.325419: E external/local_xla/xla/stream_executor/cuda/cuda_fft.cc:485] Unable to register cuFFT factory: Attempting to register factory for plugin cuFFT when one has already been registered\n",
      "2024-10-15 22:48:27.336369: E external/local_xla/xla/stream_executor/cuda/cuda_dnn.cc:8454] Unable to register cuDNN factory: Attempting to register factory for plugin cuDNN when one has already been registered\n",
      "2024-10-15 22:48:27.339521: E external/local_xla/xla/stream_executor/cuda/cuda_blas.cc:1452] Unable to register cuBLAS factory: Attempting to register factory for plugin cuBLAS when one has already been registered\n"
     ]
    }
   ],
   "source": [
    "import os\n",
    "\n",
    "os.environ['TF_CPP_MIN_LOG_LEVEL'] = '2'\n",
    "\n",
    "import tensorflow as tf\n",
    "import numpy as np"
   ]
  },
  {
   "cell_type": "markdown",
   "metadata": {},
   "source": [
    "#### Один полносвязанный слой нейронной сети"
   ]
  },
  {
   "cell_type": "code",
   "execution_count": 2,
   "metadata": {},
   "outputs": [],
   "source": [
    "class DenseNN(tf.Module):\n",
    "    def __init__(self, outputs):\n",
    "        super().__init__()\n",
    "        self.outputs = outputs\n",
    "        self.fl_init=False\n",
    "    \n",
    "    def __call__(self, x):\n",
    "        if not self.fl_init:\n",
    "            self.w = tf.random.truncated_normal((x.shape[-1], self.outputs), stddev=0.1, name='w')  \n",
    "            self.b = tf.zeros([self.outputs], dtype=tf.float32, name='b')\n",
    "            \n",
    "            self.w = tf.Variable(self.w)\n",
    "            self.b = tf.Variable(self.b)\n",
    "            \n",
    "            self.fl_init = True\n",
    "        \n",
    "        y = x @ self.w + self.b\n",
    "        return y\n"
   ]
  },
  {
   "cell_type": "code",
   "execution_count": 3,
   "metadata": {},
   "outputs": [],
   "source": [
    "model = DenseNN(1)"
   ]
  },
  {
   "cell_type": "code",
   "execution_count": 4,
   "metadata": {},
   "outputs": [
    {
     "name": "stdout",
     "output_type": "stream",
     "text": [
      "tf.Tensor([[0.08681004]], shape=(1, 1), dtype=float32)\n"
     ]
    }
   ],
   "source": [
    "print(model(tf.constant([[1.0, 2.0]])))\n",
    "#неверное решение, так как нейронная сеть не обучена"
   ]
  },
  {
   "cell_type": "code",
   "execution_count": 5,
   "metadata": {},
   "outputs": [],
   "source": [
    "x_train = tf.random.uniform(minval=0, maxval=10, shape=(100, 2))\n",
    "y_train = [a + b for a, b in x_train]"
   ]
  },
  {
   "cell_type": "code",
   "execution_count": 6,
   "metadata": {},
   "outputs": [],
   "source": [
    "#функция потерь и оптимизатор для градиентного спуска\n",
    "\n",
    "loss = lambda x, y: tf.reduce_mean(tf.square(x - y))\n",
    "opt = tf.keras.optimizers.Adam(learning_rate=0.01)"
   ]
  },
  {
   "cell_type": "code",
   "execution_count": 7,
   "metadata": {},
   "outputs": [
    {
     "name": "stdout",
     "output_type": "stream",
     "text": [
      "5.734408\n",
      "0.0021847666\n",
      "0.10519202\n",
      "0.10667072\n",
      "0.09333435\n",
      "0.08206694\n",
      "0.07266663\n",
      "0.0646026\n",
      "0.057477277\n",
      "0.051032826\n",
      "0.045123264\n",
      "0.03967747\n",
      "0.0346673\n",
      "0.03008242\n",
      "0.025916781\n",
      "0.022162417\n",
      "0.018806146\n",
      "0.015830232\n",
      "0.0132144205\n",
      "0.010934967\n",
      "0.008966438\n",
      "0.0072823497\n",
      "0.005855743\n",
      "0.0046591936\n",
      "0.003666386\n",
      "0.0028514625\n",
      "0.0021898511\n",
      "0.0016591271\n",
      "0.0012384442\n",
      "0.00090945006\n",
      "0.00065596827\n",
      "0.00046383493\n",
      "0.00032087072\n",
      "0.00021678963\n",
      "0.00014281429\n",
      "9.1605485e-05\n",
      "5.7164638e-05\n",
      "3.46796e-05\n",
      "2.045141e-05\n",
      "1.1715129e-05\n",
      "6.508003e-06\n",
      "3.5117637e-06\n",
      "1.8339051e-06\n",
      "9.222722e-07\n",
      "4.469266e-07\n",
      "2.0606967e-07\n",
      "9.08185e-08\n",
      "3.7479367e-08\n",
      "1.466924e-08\n",
      "5.2532414e-09\n",
      "(<tf.Variable 'Variable:0' shape=(1,) dtype=float32, numpy=array([0.00015501], dtype=float32)>, <tf.Variable 'Variable:0' shape=(2, 1) dtype=float32, numpy=\n",
      "array([[0.99998623],\n",
      "       [0.9999929 ]], dtype=float32)>)\n"
     ]
    }
   ],
   "source": [
    "epochs = 50\n",
    "\n",
    "for n in range(epochs):\n",
    "    for x, y in zip(x_train, y_train):\n",
    "        x = tf.expand_dims(x, axis=0)\n",
    "        y = tf.constant(y, shape=(1, 1))\n",
    "        \n",
    "        with tf.GradientTape() as tape:\n",
    "            f_loss = loss(y, model(x))\n",
    "            \n",
    "        grads = tape.gradient(f_loss, model.trainable_variables)\n",
    "        opt.apply_gradients(zip(grads, model.trainable_variables))\n",
    "        \n",
    "    print(f_loss.numpy())\n",
    "    \n",
    "print(model.trainable_variables)"
   ]
  },
  {
   "cell_type": "code",
   "execution_count": 8,
   "metadata": {},
   "outputs": [
    {
     "name": "stdout",
     "output_type": "stream",
     "text": [
      "tf.Tensor([[3.000127]], shape=(1, 1), dtype=float32)\n"
     ]
    }
   ],
   "source": [
    "print(model(tf.constant([[1.0, 2.0]])))"
   ]
  }
 ],
 "metadata": {
  "kernelspec": {
   "display_name": "tens",
   "language": "python",
   "name": "python3"
  },
  "language_info": {
   "codemirror_mode": {
    "name": "ipython",
    "version": 3
   },
   "file_extension": ".py",
   "mimetype": "text/x-python",
   "name": "python",
   "nbconvert_exporter": "python",
   "pygments_lexer": "ipython3",
   "version": "3.11.9"
  }
 },
 "nbformat": 4,
 "nbformat_minor": 2
}
