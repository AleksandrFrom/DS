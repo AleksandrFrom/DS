{
 "cells": [
  {
   "cell_type": "markdown",
   "metadata": {},
   "source": [
    "# 5.Переобучение - что это и как этого избежать, критерии останова обучения"
   ]
  },
  {
   "cell_type": "code",
   "execution_count": 1,
   "metadata": {},
   "outputs": [],
   "source": [
    "import numpy as np"
   ]
  },
  {
   "cell_type": "markdown",
   "metadata": {},
   "source": [
    "#### Рекомендация 6\n",
    "- использовать минимальное необходимое число нейронов в нейронной сети.\n",
    "\n",
    "#### Рекомендация 7\n",
    "- разбивать все множество наблюдений на три выборки: обучающую, валидации и тестовую.\n",
    "\n",
    "#### Критерии останова процесса обучения\n",
    "- расхождение показателя качества для обучающей выборки и валидации;\n",
    "- от итерации к итерации (по всей эпохе) показатель качества Q практически не меняется (возможно надо изменить веса или переинициализировать НС);\n",
    "- происходит малое изменение весовых коэффициентов (возможно достигли минимального значения);\n",
    "- достигли максимальное число итераций."
   ]
  }
 ],
 "metadata": {
  "kernelspec": {
   "display_name": "tens",
   "language": "python",
   "name": "python3"
  },
  "language_info": {
   "codemirror_mode": {
    "name": "ipython",
    "version": 3
   },
   "file_extension": ".py",
   "mimetype": "text/x-python",
   "name": "python",
   "nbconvert_exporter": "python",
   "pygments_lexer": "ipython3",
   "version": "3.11.9"
  }
 },
 "nbformat": 4,
 "nbformat_minor": 2
}
