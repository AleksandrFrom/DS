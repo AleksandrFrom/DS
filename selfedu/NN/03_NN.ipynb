{
 "cells": [
  {
   "cell_type": "markdown",
   "metadata": {},
   "source": [
    "# 3.Back propagation - алгоритм обучения по методу обратного распространения"
   ]
  },
  {
   "cell_type": "code",
   "execution_count": 1,
   "metadata": {},
   "outputs": [],
   "source": [
    "import numpy as np"
   ]
  },
  {
   "cell_type": "code",
   "execution_count": 4,
   "metadata": {},
   "outputs": [
    {
     "name": "stdout",
     "output_type": "stream",
     "text": [
      "Выходное значение НС: 0.06953299847615124 => -1\n",
      "Выходное значение НС: 0.9330144826272397 => 1\n",
      "Выходное значение НС: -0.8695301234166937 => -1\n",
      "Выходное значение НС: 0.8775272441432376 => 1\n",
      "Выходное значение НС: -0.8775272441432377 => -1\n",
      "Выходное значение НС: 0.8695301234166937 => 1\n",
      "Выходное значение НС: -0.9330144826272397 => -1\n",
      "Выходное значение НС: -0.06953299847615102 => -1\n"
     ]
    }
   ],
   "source": [
    "def f(x):\n",
    "    return 2/(1 + np.exp(-x)) - 1\n",
    "\n",
    "def df(x):\n",
    "    return 0.5*(1 + x) * (1 - x)\n",
    "\n",
    "w1 = np.array([[-0.2, 0.3, -0.4], [0.1, -0.3, -0.4]])\n",
    "w2 = np.array([0.2, 0.3])\n",
    "\n",
    "def go_forward(inp):\n",
    "    sum = np.dot(w1, inp)\n",
    "    out = np.array([f(x) for x in sum])\n",
    "    \n",
    "    sum = np.dot(w2, out)\n",
    "    y = f(sum)\n",
    "    return (y, out)\n",
    "\n",
    "def train(epoch):\n",
    "    global w2, w1\n",
    "    lmd = 0.01          # шаг обучения\n",
    "    N = 10000           # число итераций\n",
    "    count = len(epoch)\n",
    "    for k in range(N):\n",
    "        x = epoch[np.random.randint(0, count)]  # случанй выбор входного сигнала из обучающей выборки\n",
    "        y, out = go_forward(x[0:3])             # прямой проход по НС и вычисление выходных значений \n",
    "        e = y - x[-1]                           # ошибка\n",
    "        delta = e * df(y)                       # локальный градиент\n",
    "        w2[0] = w2[0] - lmd * delta * out[0]    # корректировка веса первой связи   \n",
    "        w2[1] = w2[1] - lmd * delta * out[1]    # корректировка веса второй связи  \n",
    "        \n",
    "        delta2 = w2 * delta * df(out) \n",
    "        \n",
    "        # корректировка связей первого слоя\n",
    "        \n",
    "        w1[0, :] = w1[0, :] - np.array(x[0:3]) * delta2[0] * lmd\n",
    "        w1[1, :] = w1[1, :] - np.array(x[0:3]) * delta2[1] * lmd\n",
    "# обучающая выборка         \n",
    "epoch = [(-1, -1, -1, -1),\n",
    "         (-1, -1, 1, 1),\n",
    "         (-1, 1, -1, -1),\n",
    "         (-1, 1, 1, 1),\n",
    "         (1, -1, -1, -1),\n",
    "         (1, -1, 1, 1),\n",
    "         (1, 1, -1, -1),\n",
    "         (1, 1, 1, -1)]\n",
    "\n",
    "train(epoch)\n",
    "\n",
    "for x in epoch:\n",
    "    y, out = go_forward(x[0:3])\n",
    "    print(f'Выходное значение НС: {y} => {x[-1]}')"
   ]
  }
 ],
 "metadata": {
  "kernelspec": {
   "display_name": "tens",
   "language": "python",
   "name": "python3"
  },
  "language_info": {
   "codemirror_mode": {
    "name": "ipython",
    "version": 3
   },
   "file_extension": ".py",
   "mimetype": "text/x-python",
   "name": "python",
   "nbconvert_exporter": "python",
   "pygments_lexer": "ipython3",
   "version": "3.11.9"
  }
 },
 "nbformat": 4,
 "nbformat_minor": 2
}
