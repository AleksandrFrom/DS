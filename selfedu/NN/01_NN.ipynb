{
 "cells": [
  {
   "cell_type": "markdown",
   "metadata": {},
   "source": [
    "# 1. Структура и принцип работы полносвязных нейронных сетей"
   ]
  },
  {
   "cell_type": "code",
   "execution_count": 1,
   "metadata": {},
   "outputs": [],
   "source": [
    "import numpy as np"
   ]
  },
  {
   "cell_type": "code",
   "execution_count": 19,
   "metadata": {},
   "outputs": [],
   "source": [
    "def act(x):\n",
    "    return 0 if x < 0.5 else 1\n",
    "\n",
    "def go(house, rock, attr):\n",
    "    x = np.array([house, rock, attr]) #вектор входного сигнала\n",
    "    w11 = [0.3, 0.3, 0]\n",
    "    w12 = [0.4, -0.5, 1]\n",
    "    weight1 = np.array([w11, w12])  #матрица 2х3\n",
    "    weight2 = np.array([-1, 1])     #вектор 1х2\n",
    "    \n",
    "    sum_hidden = np.dot(weight1, x) #вычисляем сумму на входах нейронов скрытого слоя\n",
    "    print('Значения сумм на нейронах скрытого слоя: ' +str(sum_hidden))\n",
    "    \n",
    "    out_hidden = np.array([act(x) for x in sum_hidden])\n",
    "    print('Значения на выходах нейронов скрытого слоя: ' +str(out_hidden))\n",
    "    \n",
    "    sum_end = np.dot(weight2, out_hidden)\n",
    "    y = act(sum_end)\n",
    "    print('Выходное значение НС: ' + str(y))  \n",
    "    \n",
    "    return y"
   ]
  },
  {
   "cell_type": "code",
   "execution_count": 37,
   "metadata": {},
   "outputs": [
    {
     "name": "stdout",
     "output_type": "stream",
     "text": [
      "Значения сумм на нейронах скрытого слоя: [0.3 0.5]\n",
      "Значения на выходах нейронов скрытого слоя: [0 1]\n",
      "Выходное значение НС: 1\n",
      "Ты мне нравишься\n"
     ]
    }
   ],
   "source": [
    "house = 0\n",
    "rock = 1\n",
    "attr = 1\n",
    "\n",
    "res = go(house, rock, attr)\n",
    "if res == 1:\n",
    "    print('Ты мне нравишься')\n",
    "else:\n",
    "    print('Созвонимся')"
   ]
  }
 ],
 "metadata": {
  "kernelspec": {
   "display_name": "tens",
   "language": "python",
   "name": "python3"
  },
  "language_info": {
   "codemirror_mode": {
    "name": "ipython",
    "version": 3
   },
   "file_extension": ".py",
   "mimetype": "text/x-python",
   "name": "python",
   "nbconvert_exporter": "python",
   "pygments_lexer": "ipython3",
   "version": "3.11.9"
  }
 },
 "nbformat": 4,
 "nbformat_minor": 2
}
