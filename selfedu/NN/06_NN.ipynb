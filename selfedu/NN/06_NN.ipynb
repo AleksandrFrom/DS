{
 "cells": [
  {
   "cell_type": "markdown",
   "metadata": {},
   "source": [
    "# 6. Функции активации, критерии качества работы НС"
   ]
  },
  {
   "cell_type": "code",
   "execution_count": 1,
   "metadata": {},
   "outputs": [],
   "source": [
    "import numpy as np"
   ]
  },
  {
   "cell_type": "markdown",
   "metadata": {},
   "source": [
    "#### Рекомендаци 8\n",
    "- при малом числе слоев можно использовать гиперболическую и сигмоидальную функции активации или ReLu, при числе слоев от 8 и более - ReLu и ее вариации.\n",
    "\n",
    "#### Рекомендаци 9\n",
    "- для задач регрессии у выходных нейронов использовать линейную (linear) функцию активации, для задач классификации не пересекающихся классов - softmax."
   ]
  },
  {
   "cell_type": "markdown",
   "metadata": {},
   "source": [
    "### Критерий качества НС\n",
    "\n",
    "#### Распознавание: \n",
    "- хиндж (hinge);\n",
    "- бинарная кросс-энтропия (binary crossentropy) - при классификации двух классов;\n",
    "- категориальная кросс-энтропия (categorical crossentropy) - при классификации более двух классов;\n",
    "\n",
    "### Обработка текста:\n",
    "- логарифмический гиперболический косинус (logcos);\n",
    "\n",
    "### Задачи регрессии:\n",
    "- средний квадрат ошибок (mean squared error);\n",
    "- средний модуль ошибок (mean absolute error);\n",
    "- средний абсолютный процент ошибок (mean absolute percentage error) - хороша в прогнозировании;\n",
    "- средний квадрат логарифмических ошибок (mean squared logaritmic error)."
   ]
  }
 ],
 "metadata": {
  "kernelspec": {
   "display_name": "tens",
   "language": "python",
   "name": "python3"
  },
  "language_info": {
   "codemirror_mode": {
    "name": "ipython",
    "version": 3
   },
   "file_extension": ".py",
   "mimetype": "text/x-python",
   "name": "python",
   "nbconvert_exporter": "python",
   "pygments_lexer": "ipython3",
   "version": "3.11.9"
  }
 },
 "nbformat": 4,
 "nbformat_minor": 2
}
