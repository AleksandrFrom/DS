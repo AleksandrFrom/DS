{
 "cells": [
  {
   "cell_type": "markdown",
   "metadata": {},
   "source": [
    "# 26. Сокращение размерности признакового пространства с помощью PCA"
   ]
  },
  {
   "cell_type": "code",
   "execution_count": 1,
   "metadata": {},
   "outputs": [],
   "source": [
    "import numpy as np\n",
    "import matplotlib.pyplot as plt"
   ]
  },
  {
   "cell_type": "code",
   "execution_count": 2,
   "metadata": {},
   "outputs": [],
   "source": [
    "SIZE = 1000\n",
    "np.random.seed(123)\n",
    "\n",
    "x = np.random.normal(size = SIZE)\n",
    "y = np.random.normal(size = SIZE)\n",
    "\n",
    "z = (x + y) / 2"
   ]
  },
  {
   "cell_type": "code",
   "execution_count": 3,
   "metadata": {},
   "outputs": [
    {
     "name": "stdout",
     "output_type": "stream",
     "text": [
      "[1.4018930165258376, 0.9841864212968798, 0.0]\n"
     ]
    }
   ],
   "source": [
    "F = np.vstack([x, y, z]) # матрица F\n",
    "FF = 1 / SIZE * F @ F.T # матрица Грамма\n",
    "\n",
    "L, W = np.linalg.eig(FF) # вычисление собственных чисел и векторов\n",
    "\n",
    "WW = sorted(zip(L, W.T), key = lambda lx: lx[0], reverse=True) # сортируем векторы по убыванию собственных чисел\n",
    "WW = np.array([w[1] for w in WW])\n",
    "\n",
    "print(sorted(L, reverse=True)) # собственные числа"
   ]
  }
 ],
 "metadata": {
  "kernelspec": {
   "display_name": "envptn311",
   "language": "python",
   "name": "python3"
  },
  "language_info": {
   "codemirror_mode": {
    "name": "ipython",
    "version": 3
   },
   "file_extension": ".py",
   "mimetype": "text/x-python",
   "name": "python",
   "nbconvert_exporter": "python",
   "pygments_lexer": "ipython3",
   "version": "3.11.9"
  }
 },
 "nbformat": 4,
 "nbformat_minor": 2
}
