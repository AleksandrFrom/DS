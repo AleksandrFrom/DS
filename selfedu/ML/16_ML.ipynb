{
 "cells": [
  {
   "cell_type": "markdown",
   "metadata": {},
   "source": [
    "# 16. Байесовский вывод. Наивная байесовская классификация"
   ]
  },
  {
   "cell_type": "code",
   "execution_count": 2,
   "metadata": {},
   "outputs": [],
   "source": [
    "import numpy as np"
   ]
  },
  {
   "cell_type": "code",
   "execution_count": 3,
   "metadata": {},
   "outputs": [
    {
     "name": "stdout",
     "output_type": "stream",
     "text": [
      "МО:  31.0 35.0 14.4 52.0\n",
      "Дисперсии: 80.0 50.0 34.3 182.5\n"
     ]
    }
   ],
   "source": [
    "x_train = np.array([[10, 50], [20, 30], [25, 30], [20, 60], [15, 70], [40, 40], [30, 45], [20, 45], [40, 30], [7, 35]])\n",
    "y_train = np.array([-1, 1, 1, -1, -1, 1, 1, -1, 1, -1])\n",
    "\n",
    "mw1, ml1 = np.mean(x_train[y_train == 1], axis=0)\n",
    "mw_1, ml_1 = np.mean(x_train[y_train == -1], axis=0)\n",
    "\n",
    "# формула для вычисления дисперсии здесь немного другая 1/N*sum(...)\n",
    "sw1, sl1 = np.var(x_train[y_train == 1], axis=0, ddof=1)\n",
    "sw_1, sl_1 = np.var(x_train[y_train == -1], axis=0, ddof=1)\n",
    "\n",
    "print('МО: ', mw1, ml1, mw_1, ml_1)\n",
    "print('Дисперсии:', sw1, sl1, sw_1, sl_1)"
   ]
  },
  {
   "cell_type": "code",
   "execution_count": 4,
   "metadata": {},
   "outputs": [
    {
     "name": "stdout",
     "output_type": "stream",
     "text": [
      "Номер класса (-1 - гусеница, 1 - божья коровка):  -1\n"
     ]
    }
   ],
   "source": [
    "x = [10, 40]  # ширина, длина жука\n",
    "\n",
    "a_1 = lambda x: -np.log(sw_1 * sl_1) - (x[0] - mw_1) ** 2 / (2 * sw_1) - (x[1] - ml_1) ** 2 / (2 * sl_1)\n",
    "a1 = lambda x: -np.log(sw1 * sl1) - (x[0] - mw1) ** 2 / (2 * sw1) - (x[1] - ml1) ** 2 / (2 * sl1)\n",
    "y = np.argmax([a_1(x), a1(x)]) * 2 - 1\n",
    "\n",
    "print('Номер класса (-1 - гусеница, 1 - божья коровка): ', y)"
   ]
  },
  {
   "cell_type": "code",
   "execution_count": 5,
   "metadata": {},
   "outputs": [
    {
     "name": "stdout",
     "output_type": "stream",
     "text": [
      "0.0\n"
     ]
    }
   ],
   "source": [
    "# тестирование по обучающей выборки\n",
    "pr = []\n",
    "for x in x_train:\n",
    "    pr.append(np.argmax([a_1(x), a1(x)]) * 2 - 1)\n",
    "\n",
    "pr = np.array(pr)\n",
    "Q = np.mean(pr != y_train) # доля ошибок\n",
    "print(Q)"
   ]
  }
 ],
 "metadata": {
  "kernelspec": {
   "display_name": "envptn311",
   "language": "python",
   "name": "python3"
  },
  "language_info": {
   "codemirror_mode": {
    "name": "ipython",
    "version": 3
   },
   "file_extension": ".py",
   "mimetype": "text/x-python",
   "name": "python",
   "nbconvert_exporter": "python",
   "pygments_lexer": "ipython3",
   "version": "3.11.9"
  }
 },
 "nbformat": 4,
 "nbformat_minor": 2
}
